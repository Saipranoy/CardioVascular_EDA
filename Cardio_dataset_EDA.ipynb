{
  "nbformat": 4,
  "nbformat_minor": 0,
  "metadata": {
    "colab": {
      "name": "Cardio_dataset_EDA.ipynb",
      "provenance": [],
      "collapsed_sections": [],
      "authorship_tag": "ABX9TyMvbVDmWD1359aUeOpOqIDi",
      "include_colab_link": true
    },
    "kernelspec": {
      "name": "python3",
      "display_name": "Python 3"
    }
  },
  "cells": [
    {
      "cell_type": "markdown",
      "metadata": {
        "id": "view-in-github",
        "colab_type": "text"
      },
      "source": [
        "<a href=\"https://colab.research.google.com/github/Saipranoy/CardioVascular_EDA/blob/main/Cardio_dataset_EDA.ipynb\" target=\"_parent\"><img src=\"https://colab.research.google.com/assets/colab-badge.svg\" alt=\"Open In Colab\"/></a>"
      ]
    },
    {
      "cell_type": "markdown",
      "metadata": {
        "id": "WDdKzH_jWK7W"
      },
      "source": [
        "This Project concentrates on exploring Cardio Vascular Disease Dataset. Use all EDA techniques to analyse tand summarize the findings after the analysis."
      ]
    },
    {
      "cell_type": "code",
      "metadata": {
        "id": "MbgvZ2DfWDxN"
      },
      "source": [
        "# Importing libraries\r\n",
        "import pandas as pd\r\n",
        "import numpy as np\r\n",
        "import matplotlib.pyplot as plt\r\n",
        "import seaborn as sns\r\n",
        "%matplotlib inline"
      ],
      "execution_count": 1,
      "outputs": []
    },
    {
      "cell_type": "markdown",
      "metadata": {
        "id": "_21ZWjPtW6Cl"
      },
      "source": [
        "Input the data, to analyse!"
      ]
    },
    {
      "cell_type": "code",
      "metadata": {
        "colab": {
          "resources": {
            "http://localhost:8080/nbextensions/google.colab/files.js": {
              "data": "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",
              "ok": true,
              "headers": [
                [
                  "content-type",
                  "application/javascript"
                ]
              ],
              "status": 200,
              "status_text": ""
            }
          },
          "base_uri": "https://localhost:8080/",
          "height": 72
        },
        "id": "qWciYUmRXH5N",
        "outputId": "0f008e1a-ad2f-4fb8-e451-c74570fe46d4"
      },
      "source": [
        "from google.colab import files\r\n",
        "uploaded = files.upload()"
      ],
      "execution_count": 2,
      "outputs": [
        {
          "output_type": "display_data",
          "data": {
            "text/html": [
              "\n",
              "     <input type=\"file\" id=\"files-0dbe9341-a411-4095-887a-6354c675a626\" name=\"files[]\" multiple disabled\n",
              "        style=\"border:none\" />\n",
              "     <output id=\"result-0dbe9341-a411-4095-887a-6354c675a626\">\n",
              "      Upload widget is only available when the cell has been executed in the\n",
              "      current browser session. Please rerun this cell to enable.\n",
              "      </output>\n",
              "      <script src=\"/nbextensions/google.colab/files.js\"></script> "
            ],
            "text/plain": [
              "<IPython.core.display.HTML object>"
            ]
          },
          "metadata": {
            "tags": []
          }
        },
        {
          "output_type": "stream",
          "text": [
            "Saving cardio_train.csv to cardio_train.csv\n"
          ],
          "name": "stdout"
        }
      ]
    },
    {
      "cell_type": "code",
      "metadata": {
        "id": "etnDkABnX_9K"
      },
      "source": [
        "import io\r\n",
        "cardio = pd.read_csv(io.BytesIO(uploaded['cardio_train.csv']), delimiter = ';',index_col = 'id')"
      ],
      "execution_count": 3,
      "outputs": []
    },
    {
      "cell_type": "code",
      "metadata": {
        "colab": {
          "base_uri": "https://localhost:8080/",
          "height": 235
        },
        "id": "PciZO3kQYWL1",
        "outputId": "802e8683-eb98-41a2-944a-7d693d4147cd"
      },
      "source": [
        "cardio.head()"
      ],
      "execution_count": 4,
      "outputs": [
        {
          "output_type": "execute_result",
          "data": {
            "text/html": [
              "<div>\n",
              "<style scoped>\n",
              "    .dataframe tbody tr th:only-of-type {\n",
              "        vertical-align: middle;\n",
              "    }\n",
              "\n",
              "    .dataframe tbody tr th {\n",
              "        vertical-align: top;\n",
              "    }\n",
              "\n",
              "    .dataframe thead th {\n",
              "        text-align: right;\n",
              "    }\n",
              "</style>\n",
              "<table border=\"1\" class=\"dataframe\">\n",
              "  <thead>\n",
              "    <tr style=\"text-align: right;\">\n",
              "      <th></th>\n",
              "      <th>age</th>\n",
              "      <th>gender</th>\n",
              "      <th>height</th>\n",
              "      <th>weight</th>\n",
              "      <th>ap_hi</th>\n",
              "      <th>ap_lo</th>\n",
              "      <th>cholesterol</th>\n",
              "      <th>gluc</th>\n",
              "      <th>smoke</th>\n",
              "      <th>alco</th>\n",
              "      <th>active</th>\n",
              "      <th>cardio</th>\n",
              "    </tr>\n",
              "    <tr>\n",
              "      <th>id</th>\n",
              "      <th></th>\n",
              "      <th></th>\n",
              "      <th></th>\n",
              "      <th></th>\n",
              "      <th></th>\n",
              "      <th></th>\n",
              "      <th></th>\n",
              "      <th></th>\n",
              "      <th></th>\n",
              "      <th></th>\n",
              "      <th></th>\n",
              "      <th></th>\n",
              "    </tr>\n",
              "  </thead>\n",
              "  <tbody>\n",
              "    <tr>\n",
              "      <th>0</th>\n",
              "      <td>18393</td>\n",
              "      <td>2</td>\n",
              "      <td>168</td>\n",
              "      <td>62.0</td>\n",
              "      <td>110</td>\n",
              "      <td>80</td>\n",
              "      <td>1</td>\n",
              "      <td>1</td>\n",
              "      <td>0</td>\n",
              "      <td>0</td>\n",
              "      <td>1</td>\n",
              "      <td>0</td>\n",
              "    </tr>\n",
              "    <tr>\n",
              "      <th>1</th>\n",
              "      <td>20228</td>\n",
              "      <td>1</td>\n",
              "      <td>156</td>\n",
              "      <td>85.0</td>\n",
              "      <td>140</td>\n",
              "      <td>90</td>\n",
              "      <td>3</td>\n",
              "      <td>1</td>\n",
              "      <td>0</td>\n",
              "      <td>0</td>\n",
              "      <td>1</td>\n",
              "      <td>1</td>\n",
              "    </tr>\n",
              "    <tr>\n",
              "      <th>2</th>\n",
              "      <td>18857</td>\n",
              "      <td>1</td>\n",
              "      <td>165</td>\n",
              "      <td>64.0</td>\n",
              "      <td>130</td>\n",
              "      <td>70</td>\n",
              "      <td>3</td>\n",
              "      <td>1</td>\n",
              "      <td>0</td>\n",
              "      <td>0</td>\n",
              "      <td>0</td>\n",
              "      <td>1</td>\n",
              "    </tr>\n",
              "    <tr>\n",
              "      <th>3</th>\n",
              "      <td>17623</td>\n",
              "      <td>2</td>\n",
              "      <td>169</td>\n",
              "      <td>82.0</td>\n",
              "      <td>150</td>\n",
              "      <td>100</td>\n",
              "      <td>1</td>\n",
              "      <td>1</td>\n",
              "      <td>0</td>\n",
              "      <td>0</td>\n",
              "      <td>1</td>\n",
              "      <td>1</td>\n",
              "    </tr>\n",
              "    <tr>\n",
              "      <th>4</th>\n",
              "      <td>17474</td>\n",
              "      <td>1</td>\n",
              "      <td>156</td>\n",
              "      <td>56.0</td>\n",
              "      <td>100</td>\n",
              "      <td>60</td>\n",
              "      <td>1</td>\n",
              "      <td>1</td>\n",
              "      <td>0</td>\n",
              "      <td>0</td>\n",
              "      <td>0</td>\n",
              "      <td>0</td>\n",
              "    </tr>\n",
              "  </tbody>\n",
              "</table>\n",
              "</div>"
            ],
            "text/plain": [
              "      age  gender  height  weight  ap_hi  ...  gluc  smoke  alco  active  cardio\n",
              "id                                        ...                                   \n",
              "0   18393       2     168    62.0    110  ...     1      0     0       1       0\n",
              "1   20228       1     156    85.0    140  ...     1      0     0       1       1\n",
              "2   18857       1     165    64.0    130  ...     1      0     0       0       1\n",
              "3   17623       2     169    82.0    150  ...     1      0     0       1       1\n",
              "4   17474       1     156    56.0    100  ...     1      0     0       0       0\n",
              "\n",
              "[5 rows x 12 columns]"
            ]
          },
          "metadata": {
            "tags": []
          },
          "execution_count": 4
        }
      ]
    },
    {
      "cell_type": "code",
      "metadata": {
        "colab": {
          "base_uri": "https://localhost:8080/"
        },
        "id": "-pB_Z4ZmZL4q",
        "outputId": "a399a0c0-8a4b-4a56-8e0c-8e6adca662d4"
      },
      "source": [
        "cardio.shape"
      ],
      "execution_count": 5,
      "outputs": [
        {
          "output_type": "execute_result",
          "data": {
            "text/plain": [
              "(70000, 12)"
            ]
          },
          "metadata": {
            "tags": []
          },
          "execution_count": 5
        }
      ]
    },
    {
      "cell_type": "code",
      "metadata": {
        "colab": {
          "base_uri": "https://localhost:8080/"
        },
        "id": "XrP5RDIHZlnd",
        "outputId": "813a8c46-0923-45f2-e81b-ab2f088543e4"
      },
      "source": [
        "#To check if there are any  null data and datatypes of columns\r\n",
        "\r\n",
        "cardio.info()"
      ],
      "execution_count": 6,
      "outputs": [
        {
          "output_type": "stream",
          "text": [
            "<class 'pandas.core.frame.DataFrame'>\n",
            "Int64Index: 70000 entries, 0 to 99999\n",
            "Data columns (total 12 columns):\n",
            " #   Column       Non-Null Count  Dtype  \n",
            "---  ------       --------------  -----  \n",
            " 0   age          70000 non-null  int64  \n",
            " 1   gender       70000 non-null  int64  \n",
            " 2   height       70000 non-null  int64  \n",
            " 3   weight       70000 non-null  float64\n",
            " 4   ap_hi        70000 non-null  int64  \n",
            " 5   ap_lo        70000 non-null  int64  \n",
            " 6   cholesterol  70000 non-null  int64  \n",
            " 7   gluc         70000 non-null  int64  \n",
            " 8   smoke        70000 non-null  int64  \n",
            " 9   alco         70000 non-null  int64  \n",
            " 10  active       70000 non-null  int64  \n",
            " 11  cardio       70000 non-null  int64  \n",
            "dtypes: float64(1), int64(11)\n",
            "memory usage: 6.9 MB\n"
          ],
          "name": "stdout"
        }
      ]
    },
    {
      "cell_type": "markdown",
      "metadata": {
        "id": "tP-Z1lDfbM9B"
      },
      "source": [
        "We can see that we need to change the column's headings to more understanding and easier way to visualise. [Then convert age to years as it is represented in days] The column details can be found in [this link](https://www.kaggle.com/sulianova/cardiovascular-disease-dataset) ."
      ]
    },
    {
      "cell_type": "code",
      "metadata": {
        "id": "aBWOlUEybYdn"
      },
      "source": [
        "cardio.columns = ['age', 'gender', 'height_cm', 'weight_kg','sys_bp', 'dia_bp', 'cholestrol', 'glucose', 'smoking',\r\n",
        "                  'alcohol_in', 'active', 'cardio']"
      ],
      "execution_count": 7,
      "outputs": []
    },
    {
      "cell_type": "code",
      "metadata": {
        "colab": {
          "base_uri": "https://localhost:8080/"
        },
        "id": "hVfPCi6vc53L",
        "outputId": "3e61933a-f376-4c51-ed7c-af511d546031"
      },
      "source": [
        "cardio.info()"
      ],
      "execution_count": 8,
      "outputs": [
        {
          "output_type": "stream",
          "text": [
            "<class 'pandas.core.frame.DataFrame'>\n",
            "Int64Index: 70000 entries, 0 to 99999\n",
            "Data columns (total 12 columns):\n",
            " #   Column      Non-Null Count  Dtype  \n",
            "---  ------      --------------  -----  \n",
            " 0   age         70000 non-null  int64  \n",
            " 1   gender      70000 non-null  int64  \n",
            " 2   height_cm   70000 non-null  int64  \n",
            " 3   weight_kg   70000 non-null  float64\n",
            " 4   sys_bp      70000 non-null  int64  \n",
            " 5   dia_bp      70000 non-null  int64  \n",
            " 6   cholestrol  70000 non-null  int64  \n",
            " 7   glucose     70000 non-null  int64  \n",
            " 8   smoking     70000 non-null  int64  \n",
            " 9   alcohol_in  70000 non-null  int64  \n",
            " 10  active      70000 non-null  int64  \n",
            " 11  cardio      70000 non-null  int64  \n",
            "dtypes: float64(1), int64(11)\n",
            "memory usage: 6.9 MB\n"
          ],
          "name": "stdout"
        }
      ]
    },
    {
      "cell_type": "code",
      "metadata": {
        "colab": {
          "base_uri": "https://localhost:8080/",
          "height": 317
        },
        "id": "8W2hC8XdeIc6",
        "outputId": "279bf23f-ee94-4bea-89a8-3af82382236f"
      },
      "source": [
        "cardio.describe()"
      ],
      "execution_count": 9,
      "outputs": [
        {
          "output_type": "execute_result",
          "data": {
            "text/html": [
              "<div>\n",
              "<style scoped>\n",
              "    .dataframe tbody tr th:only-of-type {\n",
              "        vertical-align: middle;\n",
              "    }\n",
              "\n",
              "    .dataframe tbody tr th {\n",
              "        vertical-align: top;\n",
              "    }\n",
              "\n",
              "    .dataframe thead th {\n",
              "        text-align: right;\n",
              "    }\n",
              "</style>\n",
              "<table border=\"1\" class=\"dataframe\">\n",
              "  <thead>\n",
              "    <tr style=\"text-align: right;\">\n",
              "      <th></th>\n",
              "      <th>age</th>\n",
              "      <th>gender</th>\n",
              "      <th>height_cm</th>\n",
              "      <th>weight_kg</th>\n",
              "      <th>sys_bp</th>\n",
              "      <th>dia_bp</th>\n",
              "      <th>cholestrol</th>\n",
              "      <th>glucose</th>\n",
              "      <th>smoking</th>\n",
              "      <th>alcohol_in</th>\n",
              "      <th>active</th>\n",
              "      <th>cardio</th>\n",
              "    </tr>\n",
              "  </thead>\n",
              "  <tbody>\n",
              "    <tr>\n",
              "      <th>count</th>\n",
              "      <td>70000.000000</td>\n",
              "      <td>70000.000000</td>\n",
              "      <td>70000.000000</td>\n",
              "      <td>70000.000000</td>\n",
              "      <td>70000.000000</td>\n",
              "      <td>70000.000000</td>\n",
              "      <td>70000.000000</td>\n",
              "      <td>70000.000000</td>\n",
              "      <td>70000.000000</td>\n",
              "      <td>70000.000000</td>\n",
              "      <td>70000.000000</td>\n",
              "      <td>70000.000000</td>\n",
              "    </tr>\n",
              "    <tr>\n",
              "      <th>mean</th>\n",
              "      <td>19468.865814</td>\n",
              "      <td>1.349571</td>\n",
              "      <td>164.359229</td>\n",
              "      <td>74.205690</td>\n",
              "      <td>128.817286</td>\n",
              "      <td>96.630414</td>\n",
              "      <td>1.366871</td>\n",
              "      <td>1.226457</td>\n",
              "      <td>0.088129</td>\n",
              "      <td>0.053771</td>\n",
              "      <td>0.803729</td>\n",
              "      <td>0.499700</td>\n",
              "    </tr>\n",
              "    <tr>\n",
              "      <th>std</th>\n",
              "      <td>2467.251667</td>\n",
              "      <td>0.476838</td>\n",
              "      <td>8.210126</td>\n",
              "      <td>14.395757</td>\n",
              "      <td>154.011419</td>\n",
              "      <td>188.472530</td>\n",
              "      <td>0.680250</td>\n",
              "      <td>0.572270</td>\n",
              "      <td>0.283484</td>\n",
              "      <td>0.225568</td>\n",
              "      <td>0.397179</td>\n",
              "      <td>0.500003</td>\n",
              "    </tr>\n",
              "    <tr>\n",
              "      <th>min</th>\n",
              "      <td>10798.000000</td>\n",
              "      <td>1.000000</td>\n",
              "      <td>55.000000</td>\n",
              "      <td>10.000000</td>\n",
              "      <td>-150.000000</td>\n",
              "      <td>-70.000000</td>\n",
              "      <td>1.000000</td>\n",
              "      <td>1.000000</td>\n",
              "      <td>0.000000</td>\n",
              "      <td>0.000000</td>\n",
              "      <td>0.000000</td>\n",
              "      <td>0.000000</td>\n",
              "    </tr>\n",
              "    <tr>\n",
              "      <th>25%</th>\n",
              "      <td>17664.000000</td>\n",
              "      <td>1.000000</td>\n",
              "      <td>159.000000</td>\n",
              "      <td>65.000000</td>\n",
              "      <td>120.000000</td>\n",
              "      <td>80.000000</td>\n",
              "      <td>1.000000</td>\n",
              "      <td>1.000000</td>\n",
              "      <td>0.000000</td>\n",
              "      <td>0.000000</td>\n",
              "      <td>1.000000</td>\n",
              "      <td>0.000000</td>\n",
              "    </tr>\n",
              "    <tr>\n",
              "      <th>50%</th>\n",
              "      <td>19703.000000</td>\n",
              "      <td>1.000000</td>\n",
              "      <td>165.000000</td>\n",
              "      <td>72.000000</td>\n",
              "      <td>120.000000</td>\n",
              "      <td>80.000000</td>\n",
              "      <td>1.000000</td>\n",
              "      <td>1.000000</td>\n",
              "      <td>0.000000</td>\n",
              "      <td>0.000000</td>\n",
              "      <td>1.000000</td>\n",
              "      <td>0.000000</td>\n",
              "    </tr>\n",
              "    <tr>\n",
              "      <th>75%</th>\n",
              "      <td>21327.000000</td>\n",
              "      <td>2.000000</td>\n",
              "      <td>170.000000</td>\n",
              "      <td>82.000000</td>\n",
              "      <td>140.000000</td>\n",
              "      <td>90.000000</td>\n",
              "      <td>2.000000</td>\n",
              "      <td>1.000000</td>\n",
              "      <td>0.000000</td>\n",
              "      <td>0.000000</td>\n",
              "      <td>1.000000</td>\n",
              "      <td>1.000000</td>\n",
              "    </tr>\n",
              "    <tr>\n",
              "      <th>max</th>\n",
              "      <td>23713.000000</td>\n",
              "      <td>2.000000</td>\n",
              "      <td>250.000000</td>\n",
              "      <td>200.000000</td>\n",
              "      <td>16020.000000</td>\n",
              "      <td>11000.000000</td>\n",
              "      <td>3.000000</td>\n",
              "      <td>3.000000</td>\n",
              "      <td>1.000000</td>\n",
              "      <td>1.000000</td>\n",
              "      <td>1.000000</td>\n",
              "      <td>1.000000</td>\n",
              "    </tr>\n",
              "  </tbody>\n",
              "</table>\n",
              "</div>"
            ],
            "text/plain": [
              "                age        gender  ...        active        cardio\n",
              "count  70000.000000  70000.000000  ...  70000.000000  70000.000000\n",
              "mean   19468.865814      1.349571  ...      0.803729      0.499700\n",
              "std     2467.251667      0.476838  ...      0.397179      0.500003\n",
              "min    10798.000000      1.000000  ...      0.000000      0.000000\n",
              "25%    17664.000000      1.000000  ...      1.000000      0.000000\n",
              "50%    19703.000000      1.000000  ...      1.000000      0.000000\n",
              "75%    21327.000000      2.000000  ...      1.000000      1.000000\n",
              "max    23713.000000      2.000000  ...      1.000000      1.000000\n",
              "\n",
              "[8 rows x 12 columns]"
            ]
          },
          "metadata": {
            "tags": []
          },
          "execution_count": 9
        }
      ]
    },
    {
      "cell_type": "markdown",
      "metadata": {
        "id": "pFNwLgZaeQ5e"
      },
      "source": [
        "Checking once again if there any null values and handling them!"
      ]
    },
    {
      "cell_type": "code",
      "metadata": {
        "colab": {
          "base_uri": "https://localhost:8080/"
        },
        "id": "zfMO1qH0ecKA",
        "outputId": "70b0e164-f0b7-4c85-ca2f-6f0d469305b1"
      },
      "source": [
        "cardio.isnull().sum()"
      ],
      "execution_count": 10,
      "outputs": [
        {
          "output_type": "execute_result",
          "data": {
            "text/plain": [
              "age           0\n",
              "gender        0\n",
              "height_cm     0\n",
              "weight_kg     0\n",
              "sys_bp        0\n",
              "dia_bp        0\n",
              "cholestrol    0\n",
              "glucose       0\n",
              "smoking       0\n",
              "alcohol_in    0\n",
              "active        0\n",
              "cardio        0\n",
              "dtype: int64"
            ]
          },
          "metadata": {
            "tags": []
          },
          "execution_count": 10
        }
      ]
    },
    {
      "cell_type": "markdown",
      "metadata": {
        "id": "0-F7mtiMeuaE"
      },
      "source": [
        "Checking for Duplicate Data!"
      ]
    },
    {
      "cell_type": "code",
      "metadata": {
        "colab": {
          "base_uri": "https://localhost:8080/",
          "height": 844
        },
        "id": "bgAcC3Hbe0H9",
        "outputId": "32a482b7-41d6-4125-e33b-05217f59a00f"
      },
      "source": [
        "duplicate = cardio.duplicated()\r\n",
        "cardio[duplicate]"
      ],
      "execution_count": 11,
      "outputs": [
        {
          "output_type": "execute_result",
          "data": {
            "text/html": [
              "<div>\n",
              "<style scoped>\n",
              "    .dataframe tbody tr th:only-of-type {\n",
              "        vertical-align: middle;\n",
              "    }\n",
              "\n",
              "    .dataframe tbody tr th {\n",
              "        vertical-align: top;\n",
              "    }\n",
              "\n",
              "    .dataframe thead th {\n",
              "        text-align: right;\n",
              "    }\n",
              "</style>\n",
              "<table border=\"1\" class=\"dataframe\">\n",
              "  <thead>\n",
              "    <tr style=\"text-align: right;\">\n",
              "      <th></th>\n",
              "      <th>age</th>\n",
              "      <th>gender</th>\n",
              "      <th>height_cm</th>\n",
              "      <th>weight_kg</th>\n",
              "      <th>sys_bp</th>\n",
              "      <th>dia_bp</th>\n",
              "      <th>cholestrol</th>\n",
              "      <th>glucose</th>\n",
              "      <th>smoking</th>\n",
              "      <th>alcohol_in</th>\n",
              "      <th>active</th>\n",
              "      <th>cardio</th>\n",
              "    </tr>\n",
              "    <tr>\n",
              "      <th>id</th>\n",
              "      <th></th>\n",
              "      <th></th>\n",
              "      <th></th>\n",
              "      <th></th>\n",
              "      <th></th>\n",
              "      <th></th>\n",
              "      <th></th>\n",
              "      <th></th>\n",
              "      <th></th>\n",
              "      <th></th>\n",
              "      <th></th>\n",
              "      <th></th>\n",
              "    </tr>\n",
              "  </thead>\n",
              "  <tbody>\n",
              "    <tr>\n",
              "      <th>15094</th>\n",
              "      <td>20495</td>\n",
              "      <td>1</td>\n",
              "      <td>165</td>\n",
              "      <td>70.0</td>\n",
              "      <td>120</td>\n",
              "      <td>80</td>\n",
              "      <td>1</td>\n",
              "      <td>1</td>\n",
              "      <td>0</td>\n",
              "      <td>0</td>\n",
              "      <td>1</td>\n",
              "      <td>0</td>\n",
              "    </tr>\n",
              "    <tr>\n",
              "      <th>31110</th>\n",
              "      <td>16793</td>\n",
              "      <td>1</td>\n",
              "      <td>165</td>\n",
              "      <td>68.0</td>\n",
              "      <td>120</td>\n",
              "      <td>80</td>\n",
              "      <td>1</td>\n",
              "      <td>1</td>\n",
              "      <td>0</td>\n",
              "      <td>0</td>\n",
              "      <td>1</td>\n",
              "      <td>0</td>\n",
              "    </tr>\n",
              "    <tr>\n",
              "      <th>54977</th>\n",
              "      <td>18988</td>\n",
              "      <td>1</td>\n",
              "      <td>164</td>\n",
              "      <td>65.0</td>\n",
              "      <td>120</td>\n",
              "      <td>80</td>\n",
              "      <td>1</td>\n",
              "      <td>1</td>\n",
              "      <td>0</td>\n",
              "      <td>0</td>\n",
              "      <td>1</td>\n",
              "      <td>0</td>\n",
              "    </tr>\n",
              "    <tr>\n",
              "      <th>57690</th>\n",
              "      <td>14552</td>\n",
              "      <td>1</td>\n",
              "      <td>158</td>\n",
              "      <td>64.0</td>\n",
              "      <td>120</td>\n",
              "      <td>80</td>\n",
              "      <td>1</td>\n",
              "      <td>1</td>\n",
              "      <td>0</td>\n",
              "      <td>0</td>\n",
              "      <td>1</td>\n",
              "      <td>0</td>\n",
              "    </tr>\n",
              "    <tr>\n",
              "      <th>60642</th>\n",
              "      <td>18353</td>\n",
              "      <td>1</td>\n",
              "      <td>169</td>\n",
              "      <td>67.0</td>\n",
              "      <td>120</td>\n",
              "      <td>80</td>\n",
              "      <td>1</td>\n",
              "      <td>1</td>\n",
              "      <td>0</td>\n",
              "      <td>0</td>\n",
              "      <td>1</td>\n",
              "      <td>0</td>\n",
              "    </tr>\n",
              "    <tr>\n",
              "      <th>63776</th>\n",
              "      <td>16937</td>\n",
              "      <td>2</td>\n",
              "      <td>170</td>\n",
              "      <td>70.0</td>\n",
              "      <td>120</td>\n",
              "      <td>80</td>\n",
              "      <td>1</td>\n",
              "      <td>1</td>\n",
              "      <td>0</td>\n",
              "      <td>0</td>\n",
              "      <td>0</td>\n",
              "      <td>0</td>\n",
              "    </tr>\n",
              "    <tr>\n",
              "      <th>64445</th>\n",
              "      <td>21280</td>\n",
              "      <td>1</td>\n",
              "      <td>165</td>\n",
              "      <td>65.0</td>\n",
              "      <td>120</td>\n",
              "      <td>80</td>\n",
              "      <td>1</td>\n",
              "      <td>1</td>\n",
              "      <td>0</td>\n",
              "      <td>0</td>\n",
              "      <td>1</td>\n",
              "      <td>0</td>\n",
              "    </tr>\n",
              "    <tr>\n",
              "      <th>65352</th>\n",
              "      <td>22077</td>\n",
              "      <td>1</td>\n",
              "      <td>175</td>\n",
              "      <td>69.0</td>\n",
              "      <td>120</td>\n",
              "      <td>80</td>\n",
              "      <td>1</td>\n",
              "      <td>1</td>\n",
              "      <td>0</td>\n",
              "      <td>0</td>\n",
              "      <td>1</td>\n",
              "      <td>1</td>\n",
              "    </tr>\n",
              "    <tr>\n",
              "      <th>65438</th>\n",
              "      <td>21230</td>\n",
              "      <td>1</td>\n",
              "      <td>164</td>\n",
              "      <td>62.0</td>\n",
              "      <td>120</td>\n",
              "      <td>80</td>\n",
              "      <td>1</td>\n",
              "      <td>1</td>\n",
              "      <td>0</td>\n",
              "      <td>0</td>\n",
              "      <td>1</td>\n",
              "      <td>0</td>\n",
              "    </tr>\n",
              "    <tr>\n",
              "      <th>69842</th>\n",
              "      <td>21945</td>\n",
              "      <td>1</td>\n",
              "      <td>165</td>\n",
              "      <td>60.0</td>\n",
              "      <td>120</td>\n",
              "      <td>80</td>\n",
              "      <td>1</td>\n",
              "      <td>1</td>\n",
              "      <td>0</td>\n",
              "      <td>0</td>\n",
              "      <td>1</td>\n",
              "      <td>0</td>\n",
              "    </tr>\n",
              "    <tr>\n",
              "      <th>71971</th>\n",
              "      <td>17493</td>\n",
              "      <td>2</td>\n",
              "      <td>169</td>\n",
              "      <td>74.0</td>\n",
              "      <td>120</td>\n",
              "      <td>80</td>\n",
              "      <td>1</td>\n",
              "      <td>1</td>\n",
              "      <td>0</td>\n",
              "      <td>0</td>\n",
              "      <td>1</td>\n",
              "      <td>1</td>\n",
              "    </tr>\n",
              "    <tr>\n",
              "      <th>74969</th>\n",
              "      <td>21943</td>\n",
              "      <td>1</td>\n",
              "      <td>165</td>\n",
              "      <td>65.0</td>\n",
              "      <td>120</td>\n",
              "      <td>80</td>\n",
              "      <td>1</td>\n",
              "      <td>1</td>\n",
              "      <td>0</td>\n",
              "      <td>0</td>\n",
              "      <td>1</td>\n",
              "      <td>1</td>\n",
              "    </tr>\n",
              "    <tr>\n",
              "      <th>80859</th>\n",
              "      <td>17535</td>\n",
              "      <td>2</td>\n",
              "      <td>165</td>\n",
              "      <td>65.0</td>\n",
              "      <td>120</td>\n",
              "      <td>80</td>\n",
              "      <td>1</td>\n",
              "      <td>1</td>\n",
              "      <td>0</td>\n",
              "      <td>0</td>\n",
              "      <td>1</td>\n",
              "      <td>0</td>\n",
              "    </tr>\n",
              "    <tr>\n",
              "      <th>81232</th>\n",
              "      <td>20293</td>\n",
              "      <td>1</td>\n",
              "      <td>162</td>\n",
              "      <td>70.0</td>\n",
              "      <td>110</td>\n",
              "      <td>70</td>\n",
              "      <td>1</td>\n",
              "      <td>1</td>\n",
              "      <td>0</td>\n",
              "      <td>0</td>\n",
              "      <td>1</td>\n",
              "      <td>0</td>\n",
              "    </tr>\n",
              "    <tr>\n",
              "      <th>82698</th>\n",
              "      <td>18955</td>\n",
              "      <td>1</td>\n",
              "      <td>165</td>\n",
              "      <td>75.0</td>\n",
              "      <td>120</td>\n",
              "      <td>80</td>\n",
              "      <td>1</td>\n",
              "      <td>1</td>\n",
              "      <td>0</td>\n",
              "      <td>0</td>\n",
              "      <td>1</td>\n",
              "      <td>1</td>\n",
              "    </tr>\n",
              "    <tr>\n",
              "      <th>83812</th>\n",
              "      <td>19858</td>\n",
              "      <td>1</td>\n",
              "      <td>165</td>\n",
              "      <td>68.0</td>\n",
              "      <td>120</td>\n",
              "      <td>80</td>\n",
              "      <td>1</td>\n",
              "      <td>1</td>\n",
              "      <td>0</td>\n",
              "      <td>0</td>\n",
              "      <td>1</td>\n",
              "      <td>0</td>\n",
              "    </tr>\n",
              "    <tr>\n",
              "      <th>86312</th>\n",
              "      <td>20516</td>\n",
              "      <td>1</td>\n",
              "      <td>164</td>\n",
              "      <td>66.0</td>\n",
              "      <td>120</td>\n",
              "      <td>80</td>\n",
              "      <td>1</td>\n",
              "      <td>1</td>\n",
              "      <td>0</td>\n",
              "      <td>0</td>\n",
              "      <td>0</td>\n",
              "      <td>0</td>\n",
              "    </tr>\n",
              "    <tr>\n",
              "      <th>86345</th>\n",
              "      <td>16805</td>\n",
              "      <td>1</td>\n",
              "      <td>157</td>\n",
              "      <td>67.0</td>\n",
              "      <td>120</td>\n",
              "      <td>80</td>\n",
              "      <td>1</td>\n",
              "      <td>1</td>\n",
              "      <td>0</td>\n",
              "      <td>0</td>\n",
              "      <td>1</td>\n",
              "      <td>0</td>\n",
              "    </tr>\n",
              "    <tr>\n",
              "      <th>88987</th>\n",
              "      <td>18979</td>\n",
              "      <td>1</td>\n",
              "      <td>165</td>\n",
              "      <td>65.0</td>\n",
              "      <td>120</td>\n",
              "      <td>80</td>\n",
              "      <td>1</td>\n",
              "      <td>1</td>\n",
              "      <td>0</td>\n",
              "      <td>0</td>\n",
              "      <td>0</td>\n",
              "      <td>0</td>\n",
              "    </tr>\n",
              "    <tr>\n",
              "      <th>91592</th>\n",
              "      <td>16160</td>\n",
              "      <td>1</td>\n",
              "      <td>168</td>\n",
              "      <td>65.0</td>\n",
              "      <td>120</td>\n",
              "      <td>80</td>\n",
              "      <td>1</td>\n",
              "      <td>1</td>\n",
              "      <td>0</td>\n",
              "      <td>0</td>\n",
              "      <td>1</td>\n",
              "      <td>1</td>\n",
              "    </tr>\n",
              "    <tr>\n",
              "      <th>92891</th>\n",
              "      <td>18210</td>\n",
              "      <td>1</td>\n",
              "      <td>160</td>\n",
              "      <td>60.0</td>\n",
              "      <td>120</td>\n",
              "      <td>80</td>\n",
              "      <td>1</td>\n",
              "      <td>1</td>\n",
              "      <td>0</td>\n",
              "      <td>0</td>\n",
              "      <td>1</td>\n",
              "      <td>0</td>\n",
              "    </tr>\n",
              "    <tr>\n",
              "      <th>93659</th>\n",
              "      <td>21778</td>\n",
              "      <td>1</td>\n",
              "      <td>160</td>\n",
              "      <td>58.0</td>\n",
              "      <td>120</td>\n",
              "      <td>80</td>\n",
              "      <td>1</td>\n",
              "      <td>1</td>\n",
              "      <td>0</td>\n",
              "      <td>0</td>\n",
              "      <td>1</td>\n",
              "      <td>0</td>\n",
              "    </tr>\n",
              "    <tr>\n",
              "      <th>94486</th>\n",
              "      <td>19059</td>\n",
              "      <td>1</td>\n",
              "      <td>165</td>\n",
              "      <td>65.0</td>\n",
              "      <td>120</td>\n",
              "      <td>80</td>\n",
              "      <td>1</td>\n",
              "      <td>1</td>\n",
              "      <td>0</td>\n",
              "      <td>0</td>\n",
              "      <td>1</td>\n",
              "      <td>1</td>\n",
              "    </tr>\n",
              "    <tr>\n",
              "      <th>97521</th>\n",
              "      <td>21119</td>\n",
              "      <td>1</td>\n",
              "      <td>160</td>\n",
              "      <td>60.0</td>\n",
              "      <td>120</td>\n",
              "      <td>80</td>\n",
              "      <td>1</td>\n",
              "      <td>1</td>\n",
              "      <td>0</td>\n",
              "      <td>0</td>\n",
              "      <td>0</td>\n",
              "      <td>1</td>\n",
              "    </tr>\n",
              "  </tbody>\n",
              "</table>\n",
              "</div>"
            ],
            "text/plain": [
              "         age  gender  height_cm  weight_kg  ...  smoking  alcohol_in  active  cardio\n",
              "id                                          ...                                     \n",
              "15094  20495       1        165       70.0  ...        0           0       1       0\n",
              "31110  16793       1        165       68.0  ...        0           0       1       0\n",
              "54977  18988       1        164       65.0  ...        0           0       1       0\n",
              "57690  14552       1        158       64.0  ...        0           0       1       0\n",
              "60642  18353       1        169       67.0  ...        0           0       1       0\n",
              "63776  16937       2        170       70.0  ...        0           0       0       0\n",
              "64445  21280       1        165       65.0  ...        0           0       1       0\n",
              "65352  22077       1        175       69.0  ...        0           0       1       1\n",
              "65438  21230       1        164       62.0  ...        0           0       1       0\n",
              "69842  21945       1        165       60.0  ...        0           0       1       0\n",
              "71971  17493       2        169       74.0  ...        0           0       1       1\n",
              "74969  21943       1        165       65.0  ...        0           0       1       1\n",
              "80859  17535       2        165       65.0  ...        0           0       1       0\n",
              "81232  20293       1        162       70.0  ...        0           0       1       0\n",
              "82698  18955       1        165       75.0  ...        0           0       1       1\n",
              "83812  19858       1        165       68.0  ...        0           0       1       0\n",
              "86312  20516       1        164       66.0  ...        0           0       0       0\n",
              "86345  16805       1        157       67.0  ...        0           0       1       0\n",
              "88987  18979       1        165       65.0  ...        0           0       0       0\n",
              "91592  16160       1        168       65.0  ...        0           0       1       1\n",
              "92891  18210       1        160       60.0  ...        0           0       1       0\n",
              "93659  21778       1        160       58.0  ...        0           0       1       0\n",
              "94486  19059       1        165       65.0  ...        0           0       1       1\n",
              "97521  21119       1        160       60.0  ...        0           0       0       1\n",
              "\n",
              "[24 rows x 12 columns]"
            ]
          },
          "metadata": {
            "tags": []
          },
          "execution_count": 11
        }
      ]
    },
    {
      "cell_type": "markdown",
      "metadata": {
        "id": "IC1qgflyiIN9"
      },
      "source": [
        "Though, there are duplicates in the data we need them as they are meaningful and age is different for each one so it is data of different people. Other columns can have same data, as those values can be same for different people."
      ]
    },
    {
      "cell_type": "markdown",
      "metadata": {
        "id": "rVq875wg0YRu"
      },
      "source": [
        "Handling Outliers!"
      ]
    },
    {
      "cell_type": "code",
      "metadata": {
        "colab": {
          "base_uri": "https://localhost:8080/",
          "height": 283
        },
        "id": "SIlUcWGEjGVB",
        "outputId": "18c0bb36-0625-4387-f30c-78cbba81b372"
      },
      "source": [
        "cardio.boxplot(column=['height_cm', 'weight_kg', 'sys_bp', 'dia_bp'])\r\n",
        "plt.show"
      ],
      "execution_count": 12,
      "outputs": [
        {
          "output_type": "execute_result",
          "data": {
            "text/plain": [
              "<function matplotlib.pyplot.show>"
            ]
          },
          "metadata": {
            "tags": []
          },
          "execution_count": 12
        },
        {
          "output_type": "display_data",
          "data": {
            "image/png": "[encoded data removed]",
            "text/plain": [
              "<Figure size 432x288 with 1 Axes>"
            ]
          },
          "metadata": {
            "tags": [],
            "needs_background": "light"
          }
        }
      ]
    },
    {
      "cell_type": "markdown",
      "metadata": {
        "id": "FVut-MNq3458"
      },
      "source": [
        "The columns mentioned above have outliers. According to data available systolic BP more than 180 and below/equal to 80 is fatal and diastolic BP lower than 60 and greater than 180. Weight less than 25 kgs and height lesser/equal to 100 cm can be removed. "
      ]
    },
    {
      "cell_type": "code",
      "metadata": {
        "id": "gAIJXPXJ9b-j"
      },
      "source": [
        "# collecting all outliers\r\n",
        "outliers = ((cardio['sys_bp'] > 180) | (cardio['sys_bp'] <= 80) | (cardio['dia_bp'] <= 50) | (cardio['dia_bp'] >180)\r\n",
        "             | (cardio['weight_kg'] < 25) | (cardio['height_cm'] <= 100))\r\n",
        "cardio = cardio[~outliers]"
      ],
      "execution_count": 13,
      "outputs": []
    },
    {
      "cell_type": "code",
      "metadata": {
        "colab": {
          "base_uri": "https://localhost:8080/"
        },
        "id": "NuTH1GiVfI-O",
        "outputId": "df06934f-3df1-438a-ee28-88991e95a3dc"
      },
      "source": [
        "cardio.shape"
      ],
      "execution_count": 14,
      "outputs": [
        {
          "output_type": "execute_result",
          "data": {
            "text/plain": [
              "(68273, 12)"
            ]
          },
          "metadata": {
            "tags": []
          },
          "execution_count": 14
        }
      ]
    },
    {
      "cell_type": "markdown",
      "metadata": {
        "id": "j0aoa-uGfmwL"
      },
      "source": [
        "After dropping around **2.5%** of the data, we are left with 68273 people's data.  Let's see the boxplot after removing all the outliers. "
      ]
    },
    {
      "cell_type": "code",
      "metadata": {
        "colab": {
          "base_uri": "https://localhost:8080/",
          "height": 266
        },
        "id": "5V8xMnlIfcW6",
        "outputId": "6a8ae7cd-f683-4cb5-be34-5743294d2e03"
      },
      "source": [
        "cardio.boxplot(column=['height_cm', 'weight_kg', 'sys_bp', 'dia_bp'])\r\n",
        "plt.show()"
      ],
      "execution_count": 15,
      "outputs": [
        {
          "output_type": "display_data",
          "data": {
            "image/png": "[encoded data removed]",
            "text/plain": [
              "<Figure size 432x288 with 1 Axes>"
            ]
          },
          "metadata": {
            "tags": [],
            "needs_background": "light"
          }
        }
      ]
    },
    {
      "cell_type": "markdown",
      "metadata": {
        "id": "QvKALnYFiuni"
      },
      "source": [
        "Corelation of given data with target variable!"
      ]
    },
    {
      "cell_type": "markdown",
      "metadata": {
        "id": "j1wO0MMMhk4c"
      },
      "source": [
        "As the data given (cardio) is to define whether the person/patient has cardiovascular disease. So we need to find, which column has a relation with disease. We need to compare each column with target column  [**'cardio'**] to find out co-relation. This can be done by usig *sns.stripplot()* function or hetmap function to visualise easily.\r\n",
        "\r\n",
        "-  *P.S.* cardio is whole data and 'cardio' is the target column."
      ]
    },
    {
      "cell_type": "code",
      "metadata": {
        "colab": {
          "base_uri": "https://localhost:8080/",
          "height": 296
        },
        "id": "iFTU9dekhjJD",
        "outputId": "b9710035-2797-4a5a-ac26-635d5b4c1ed9"
      },
      "source": [
        "sns.stripplot(x = cardio['cardio'],y=cardio['sys_bp'])"
      ],
      "execution_count": 19,
      "outputs": [
        {
          "output_type": "execute_result",
          "data": {
            "text/plain": [
              "<matplotlib.axes._subplots.AxesSubplot at 0x7f472c61c1d0>"
            ]
          },
          "metadata": {
            "tags": []
          },
          "execution_count": 19
        },
        {
          "output_type": "display_data",
          "data": {
            "image/png": "[encoded data removed]",
            "text/plain": [
              "<Figure size 432x288 with 1 Axes>"
            ]
          },
          "metadata": {
            "tags": [],
            "needs_background": "light"
          }
        }
      ]
    },
    {
      "cell_type": "markdown",
      "metadata": {
        "id": "SYQ7ZXD3n4Fg"
      },
      "source": [
        "As we can see that sripplot doen't give much meaning  to analyze, we can use other functions to get the corelation."
      ]
    },
    {
      "cell_type": "code",
      "metadata": {
        "colab": {
          "base_uri": "https://localhost:8080/",
          "height": 441
        },
        "id": "NFmBpta6oJ4p",
        "outputId": "dededd94-c2d0-4ef2-f996-e7956a716d21"
      },
      "source": [
        "correlation = cardio.corr()\r\n",
        "correlation"
      ],
      "execution_count": 17,
      "outputs": [
        {
          "output_type": "execute_result",
          "data": {
            "text/html": [
              "<div>\n",
              "<style scoped>\n",
              "    .dataframe tbody tr th:only-of-type {\n",
              "        vertical-align: middle;\n",
              "    }\n",
              "\n",
              "    .dataframe tbody tr th {\n",
              "        vertical-align: top;\n",
              "    }\n",
              "\n",
              "    .dataframe thead th {\n",
              "        text-align: right;\n",
              "    }\n",
              "</style>\n",
              "<table border=\"1\" class=\"dataframe\">\n",
              "  <thead>\n",
              "    <tr style=\"text-align: right;\">\n",
              "      <th></th>\n",
              "      <th>age</th>\n",
              "      <th>gender</th>\n",
              "      <th>height_cm</th>\n",
              "      <th>weight_kg</th>\n",
              "      <th>sys_bp</th>\n",
              "      <th>dia_bp</th>\n",
              "      <th>cholestrol</th>\n",
              "      <th>glucose</th>\n",
              "      <th>smoking</th>\n",
              "      <th>alcohol_in</th>\n",
              "      <th>active</th>\n",
              "      <th>cardio</th>\n",
              "    </tr>\n",
              "  </thead>\n",
              "  <tbody>\n",
              "    <tr>\n",
              "      <th>age</th>\n",
              "      <td>1.000000</td>\n",
              "      <td>-0.023798</td>\n",
              "      <td>-0.085186</td>\n",
              "      <td>0.053638</td>\n",
              "      <td>0.211357</td>\n",
              "      <td>0.152936</td>\n",
              "      <td>0.155115</td>\n",
              "      <td>0.098469</td>\n",
              "      <td>-0.047773</td>\n",
              "      <td>-0.028963</td>\n",
              "      <td>-0.010649</td>\n",
              "      <td>0.238949</td>\n",
              "    </tr>\n",
              "    <tr>\n",
              "      <th>gender</th>\n",
              "      <td>-0.023798</td>\n",
              "      <td>1.000000</td>\n",
              "      <td>0.511913</td>\n",
              "      <td>0.156338</td>\n",
              "      <td>0.060324</td>\n",
              "      <td>0.065342</td>\n",
              "      <td>-0.037322</td>\n",
              "      <td>-0.021872</td>\n",
              "      <td>0.337926</td>\n",
              "      <td>0.170223</td>\n",
              "      <td>0.005306</td>\n",
              "      <td>0.006289</td>\n",
              "    </tr>\n",
              "    <tr>\n",
              "      <th>height_cm</th>\n",
              "      <td>-0.085186</td>\n",
              "      <td>0.511913</td>\n",
              "      <td>1.000000</td>\n",
              "      <td>0.303239</td>\n",
              "      <td>0.017873</td>\n",
              "      <td>0.034897</td>\n",
              "      <td>-0.054073</td>\n",
              "      <td>-0.021317</td>\n",
              "      <td>0.192814</td>\n",
              "      <td>0.096078</td>\n",
              "      <td>-0.009330</td>\n",
              "      <td>-0.012432</td>\n",
              "    </tr>\n",
              "    <tr>\n",
              "      <th>weight_kg</th>\n",
              "      <td>0.053638</td>\n",
              "      <td>0.156338</td>\n",
              "      <td>0.303239</td>\n",
              "      <td>1.000000</td>\n",
              "      <td>0.267349</td>\n",
              "      <td>0.248191</td>\n",
              "      <td>0.139817</td>\n",
              "      <td>0.105656</td>\n",
              "      <td>0.066781</td>\n",
              "      <td>0.067958</td>\n",
              "      <td>-0.017521</td>\n",
              "      <td>0.178007</td>\n",
              "    </tr>\n",
              "    <tr>\n",
              "      <th>sys_bp</th>\n",
              "      <td>0.211357</td>\n",
              "      <td>0.060324</td>\n",
              "      <td>0.017873</td>\n",
              "      <td>0.267349</td>\n",
              "      <td>1.000000</td>\n",
              "      <td>0.710742</td>\n",
              "      <td>0.194501</td>\n",
              "      <td>0.092151</td>\n",
              "      <td>0.026189</td>\n",
              "      <td>0.030900</td>\n",
              "      <td>-0.001158</td>\n",
              "      <td>0.432101</td>\n",
              "    </tr>\n",
              "    <tr>\n",
              "      <th>dia_bp</th>\n",
              "      <td>0.152936</td>\n",
              "      <td>0.065342</td>\n",
              "      <td>0.034897</td>\n",
              "      <td>0.248191</td>\n",
              "      <td>0.710742</td>\n",
              "      <td>1.000000</td>\n",
              "      <td>0.159705</td>\n",
              "      <td>0.073587</td>\n",
              "      <td>0.023407</td>\n",
              "      <td>0.039762</td>\n",
              "      <td>-0.000559</td>\n",
              "      <td>0.339604</td>\n",
              "    </tr>\n",
              "    <tr>\n",
              "      <th>cholestrol</th>\n",
              "      <td>0.155115</td>\n",
              "      <td>-0.037322</td>\n",
              "      <td>-0.054073</td>\n",
              "      <td>0.139817</td>\n",
              "      <td>0.194501</td>\n",
              "      <td>0.159705</td>\n",
              "      <td>1.000000</td>\n",
              "      <td>0.450612</td>\n",
              "      <td>0.009810</td>\n",
              "      <td>0.034503</td>\n",
              "      <td>0.008795</td>\n",
              "      <td>0.220890</td>\n",
              "    </tr>\n",
              "    <tr>\n",
              "      <th>glucose</th>\n",
              "      <td>0.098469</td>\n",
              "      <td>-0.021872</td>\n",
              "      <td>-0.021317</td>\n",
              "      <td>0.105656</td>\n",
              "      <td>0.092151</td>\n",
              "      <td>0.073587</td>\n",
              "      <td>0.450612</td>\n",
              "      <td>1.000000</td>\n",
              "      <td>-0.006124</td>\n",
              "      <td>0.009975</td>\n",
              "      <td>-0.007950</td>\n",
              "      <td>0.088924</td>\n",
              "    </tr>\n",
              "    <tr>\n",
              "      <th>smoking</th>\n",
              "      <td>-0.047773</td>\n",
              "      <td>0.337926</td>\n",
              "      <td>0.192814</td>\n",
              "      <td>0.066781</td>\n",
              "      <td>0.026189</td>\n",
              "      <td>0.023407</td>\n",
              "      <td>0.009810</td>\n",
              "      <td>-0.006124</td>\n",
              "      <td>1.000000</td>\n",
              "      <td>0.337572</td>\n",
              "      <td>0.025028</td>\n",
              "      <td>-0.016556</td>\n",
              "    </tr>\n",
              "    <tr>\n",
              "      <th>alcohol_in</th>\n",
              "      <td>-0.028963</td>\n",
              "      <td>0.170223</td>\n",
              "      <td>0.096078</td>\n",
              "      <td>0.067958</td>\n",
              "      <td>0.030900</td>\n",
              "      <td>0.039762</td>\n",
              "      <td>0.034503</td>\n",
              "      <td>0.009975</td>\n",
              "      <td>0.337572</td>\n",
              "      <td>1.000000</td>\n",
              "      <td>0.024739</td>\n",
              "      <td>-0.008350</td>\n",
              "    </tr>\n",
              "    <tr>\n",
              "      <th>active</th>\n",
              "      <td>-0.010649</td>\n",
              "      <td>0.005306</td>\n",
              "      <td>-0.009330</td>\n",
              "      <td>-0.017521</td>\n",
              "      <td>-0.001158</td>\n",
              "      <td>-0.000559</td>\n",
              "      <td>0.008795</td>\n",
              "      <td>-0.007950</td>\n",
              "      <td>0.025028</td>\n",
              "      <td>0.024739</td>\n",
              "      <td>1.000000</td>\n",
              "      <td>-0.037866</td>\n",
              "    </tr>\n",
              "    <tr>\n",
              "      <th>cardio</th>\n",
              "      <td>0.238949</td>\n",
              "      <td>0.006289</td>\n",
              "      <td>-0.012432</td>\n",
              "      <td>0.178007</td>\n",
              "      <td>0.432101</td>\n",
              "      <td>0.339604</td>\n",
              "      <td>0.220890</td>\n",
              "      <td>0.088924</td>\n",
              "      <td>-0.016556</td>\n",
              "      <td>-0.008350</td>\n",
              "      <td>-0.037866</td>\n",
              "      <td>1.000000</td>\n",
              "    </tr>\n",
              "  </tbody>\n",
              "</table>\n",
              "</div>"
            ],
            "text/plain": [
              "                 age    gender  height_cm  ...  alcohol_in    active    cardio\n",
              "age         1.000000 -0.023798  -0.085186  ...   -0.028963 -0.010649  0.238949\n",
              "gender     -0.023798  1.000000   0.511913  ...    0.170223  0.005306  0.006289\n",
              "height_cm  -0.085186  0.511913   1.000000  ...    0.096078 -0.009330 -0.012432\n",
              "weight_kg   0.053638  0.156338   0.303239  ...    0.067958 -0.017521  0.178007\n",
              "sys_bp      0.211357  0.060324   0.017873  ...    0.030900 -0.001158  0.432101\n",
              "dia_bp      0.152936  0.065342   0.034897  ...    0.039762 -0.000559  0.339604\n",
              "cholestrol  0.155115 -0.037322  -0.054073  ...    0.034503  0.008795  0.220890\n",
              "glucose     0.098469 -0.021872  -0.021317  ...    0.009975 -0.007950  0.088924\n",
              "smoking    -0.047773  0.337926   0.192814  ...    0.337572  0.025028 -0.016556\n",
              "alcohol_in -0.028963  0.170223   0.096078  ...    1.000000  0.024739 -0.008350\n",
              "active     -0.010649  0.005306  -0.009330  ...    0.024739  1.000000 -0.037866\n",
              "cardio      0.238949  0.006289  -0.012432  ...   -0.008350 -0.037866  1.000000\n",
              "\n",
              "[12 rows x 12 columns]"
            ]
          },
          "metadata": {
            "tags": []
          },
          "execution_count": 17
        }
      ]
    },
    {
      "cell_type": "code",
      "metadata": {
        "colab": {
          "base_uri": "https://localhost:8080/",
          "height": 328
        },
        "id": "P2r1N_D8oe5o",
        "outputId": "98d458be-1acb-4c02-be6e-89cab5aff1f9"
      },
      "source": [
        "sns.heatmap(correlation, annot=True, fmt = '.2f', linewidths = 0.5)"
      ],
      "execution_count": 18,
      "outputs": [
        {
          "output_type": "execute_result",
          "data": {
            "text/plain": [
              "<matplotlib.axes._subplots.AxesSubplot at 0x7f472b5cf9b0>"
            ]
          },
          "metadata": {
            "tags": []
          },
          "execution_count": 18
        },
        {
          "output_type": "display_data",
          "data": {
            "image/png": "[encoded data removed]",
            "text/plain": [
              "<Figure size 432x288 with 2 Axes>"
            ]
          },
          "metadata": {
            "tags": [],
            "needs_background": "light"
          }
        }
      ]
    },
    {
      "cell_type": "markdown",
      "metadata": {
        "id": "FMZv4DybrhHm"
      },
      "source": [
        "We can see from **correlation**, the number represents the intensity of corelation. The number varies from -1 to 1 with 1 being same or linearly dependent. the number closer to 0 represents there is little or no relation between the variables and closer to one represents the percentage/ impact it has on each other variable."
      ]
    },
    {
      "cell_type": "markdown",
      "metadata": {
        "id": "a61NrjcrLAXd"
      },
      "source": [
        "- As seen in the heatmap, systolic and diastolic blood pressures have high relation with target variable or these values in those particular columns ['sys_bp' , 'dia_bp'] are more important to identify if the person has cardio-vascular disease. \r\n",
        "\r\n",
        "- We can also see that height - gender, cholestrol-glucose, smoking-alcohoal_intake have corelations. \r\n",
        "\r\n",
        "- Also to note that around 20% of aged and cholestrol people have cardiovascular disease."
      ]
    },
    {
      "cell_type": "markdown",
      "metadata": {
        "id": "77wx16q9M4kq"
      },
      "source": [
        "To understand whether male or female gender people have disease and mostly at what age!\r\n",
        "- let's determine the gender\r\n",
        "- then determine the age"
      ]
    },
    {
      "cell_type": "code",
      "metadata": {
        "colab": {
          "base_uri": "https://localhost:8080/"
        },
        "id": "UrtDl01orgQB",
        "outputId": "92ab0407-2da4-441b-d158-3d8515290caf"
      },
      "source": [
        "# Determining the gender\r\n",
        "male_cardio = ((cardio['gender'] == 1) & (cardio['cardio'] == 1)).sum()\r\n",
        "female_cardio = ((cardio['gender'] == 2) & (cardio['cardio'] == 1)).sum()\r\n",
        "print(\"There are {} male patients and {} female patients\".format(male_cardio,female_cardio) )"
      ],
      "execution_count": 20,
      "outputs": [
        {
          "output_type": "stream",
          "text": [
            "There are 21866 male patients and 11858 female patients\n"
          ],
          "name": "stdout"
        }
      ]
    },
    {
      "cell_type": "code",
      "metadata": {
        "colab": {
          "base_uri": "https://localhost:8080/"
        },
        "id": "DgwGHxroPjaw",
        "outputId": "d3dfba14-4cdd-4168-b9f4-264de7c9be0a"
      },
      "source": [
        "# Determining the age \r\n",
        "male = cardio[(cardio['gender'] == 1) & (cardio['cardio'] == 1)]\r\n",
        "male_age = (male['age'].mean())/366\r\n",
        "female = cardio[(cardio['gender'] == 2) & (cardio['cardio'] == 1)]\r\n",
        "female_age = (female['age'].mean())/366\r\n",
        "\r\n",
        "print(\"The male people mostly get at {} and female people at {} .\".format(int(male_age), int(female_age)))"
      ],
      "execution_count": 21,
      "outputs": [
        {
          "output_type": "stream",
          "text": [
            "The male people mostly get at 55 and female people at 54 .\n"
          ],
          "name": "stdout"
        }
      ]
    },
    {
      "cell_type": "markdown",
      "metadata": {
        "id": "VacCXsbhVWIP"
      },
      "source": [
        "As we can see that people above 50 in general will be prone to cardio vascular disease. These can be smoking or alcohol intake or high cholestrol or high glucose levels.\r\n",
        "\r\n",
        " We can still analyze on these particular columns to see  the main cause other than BP that leads to these diseases."
      ]
    },
    {
      "cell_type": "markdown",
      "metadata": {
        "id": "qmKr2mw03wBn"
      },
      "source": [
        "Lets find out which Machine Learning (ML) algorithm can be used to predict if the patient has cardiovascular disease or not!\r\n",
        "\r\n",
        "Intially we have to divide the data into\r\n",
        "- Training Set - 60%\r\n",
        "- Validation Set - 20%\r\n",
        "- Test Set - 20%\r\n",
        "\r\n",
        "Validation set is for hyper-parameter optimisation!"
      ]
    },
    {
      "cell_type": "code",
      "metadata": {
        "id": "nhPHg1xSWF1a"
      },
      "source": [
        "# Importing scikit-learn library and required packages\r\n",
        "from sklearn.model_selection import train_test_split\r\n",
        "from sklearn.neighbors import KNeighborsClassifier\r\n",
        "from sklearn.svm import SVC\r\n",
        "from sklearn.ensemble import RandomForestClassifier"
      ],
      "execution_count": 30,
      "outputs": []
    },
    {
      "cell_type": "code",
      "metadata": {
        "id": "7nERurPY6If4"
      },
      "source": [
        "# Seperating the data set\r\n",
        "X = cardio.drop(columns = ['cardio']) \r\n",
        "y = cardio['cardio']\r\n",
        "\r\n",
        "X_train, X_test, y_train, y_test = train_test_split(X, y, test_size = 0.2, random_state=1)\r\n",
        "\r\n",
        "X_train, X_val, y_train, y_val = train_test_split(X_train, y_train, test_size = 0.25, random_state =1) \r\n",
        "# 0.25*0.80 = 0.20 % of data is validation set"
      ],
      "execution_count": 27,
      "outputs": []
    },
    {
      "cell_type": "markdown",
      "metadata": {
        "id": "FbBm2hcW8AcS"
      },
      "source": [
        "Now to get the model to learn we can use available classification methods. As the data given is classifiesd to having cardio-vascular disease or not!  I will be using and comaparing the following learning algorithms:\r\n",
        "\r\n",
        " - SVM ([Suport Vector Machine](https://towardsdatascience.com/https-medium-com-pupalerushikesh-svm-f4b42800e989))\r\n",
        " - [Random Forest Classifier](https://towardsdatascience.com/a-pictorial-guide-to-understanding-random-forest-algorithm-fbf570a0ae0d)\r\n",
        " - KNN ([Clustering method](https://aaaanchakure.medium.com/k-nearest-neighbors-knn-algorithm-bd375d14eec7))"
      ]
    },
    {
      "cell_type": "code",
      "metadata": {
        "colab": {
          "base_uri": "https://localhost:8080/"
        },
        "id": "TpDTYwTeHFyD",
        "outputId": "455cb2ea-0ec4-4d67-fabd-8e7416455f9a"
      },
      "source": [
        "# Let's SVM classifier\r\n",
        "svm = SVC(random_state = 2)\r\n",
        "svm.fit(X_train,y_train)\r\n",
        "svm_score = svm.score(X_test,y_test)\r\n",
        "svm_score"
      ],
      "execution_count": 32,
      "outputs": [
        {
          "output_type": "execute_result",
          "data": {
            "text/plain": [
              "0.5983156352984255"
            ]
          },
          "metadata": {
            "tags": []
          },
          "execution_count": 32
        }
      ]
    },
    {
      "cell_type": "code",
      "metadata": {
        "colab": {
          "base_uri": "https://localhost:8080/"
        },
        "id": "tcDugAluLHxn",
        "outputId": "2df6f5dc-4a8c-4436-90af-254bc1757429"
      },
      "source": [
        "# Random Forest Classifier\r\n",
        "rfs = RandomForestClassifier()\r\n",
        "rfs.fit(X_train,y_train)\r\n",
        "rfs_score = rfs.score(X_test,y_test)\r\n",
        "rfs_score"
      ],
      "execution_count": 33,
      "outputs": [
        {
          "output_type": "execute_result",
          "data": {
            "text/plain": [
              "0.7138044672281215"
            ]
          },
          "metadata": {
            "tags": []
          },
          "execution_count": 33
        }
      ]
    },
    {
      "cell_type": "code",
      "metadata": {
        "colab": {
          "base_uri": "https://localhost:8080/"
        },
        "id": "4JkbvvrGMq9P",
        "outputId": "f432efac-85d0-4058-ec9b-5c6ce636b318"
      },
      "source": [
        "# KNN\r\n",
        "knn = KNeighborsClassifier(n_neighbors=80)\r\n",
        "knn.fit(X_train, y_train)\r\n",
        "knn_score = knn.score(X_test,y_test)\r\n",
        "knn_score"
      ],
      "execution_count": 41,
      "outputs": [
        {
          "output_type": "execute_result",
          "data": {
            "text/plain": [
              "0.6966678872207982"
            ]
          },
          "metadata": {
            "tags": []
          },
          "execution_count": 41
        }
      ]
    },
    {
      "cell_type": "markdown",
      "metadata": {
        "id": "kYRJlIf2NyX0"
      },
      "source": [
        "From above cells we can see that RFS and KNN clasifiers give high accuracy score. We can now play with each classifier's hyper-parameters to increase the accuracy as well as efficiency."
      ]
    },
    {
      "cell_type": "code",
      "metadata": {
        "id": "gTZZprlTOKnI"
      },
      "source": [
        ""
      ],
      "execution_count": null,
      "outputs": []
    }
  ]
}